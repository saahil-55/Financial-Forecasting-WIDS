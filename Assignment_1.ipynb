{
 "cells": [
  {
   "cell_type": "code",
   "execution_count": 1,
   "id": "6600d314-5852-4b79-88c3-622faaf04a31",
   "metadata": {},
   "outputs": [
    {
     "name": "stdout",
     "output_type": "stream",
     "text": [
      "Downloading data for NIFTY50 (^NSEI)...\n"
     ]
    },
    {
     "name": "stderr",
     "output_type": "stream",
     "text": [
      "[*********************100%***********************]  1 of 1 completed\n"
     ]
    },
    {
     "name": "stdout",
     "output_type": "stream",
     "text": [
      "Downloading data for TATA_MOTORS (TATAMOTORS.NS)...\n"
     ]
    },
    {
     "name": "stderr",
     "output_type": "stream",
     "text": [
      "[*********************100%***********************]  1 of 1 completed"
     ]
    },
    {
     "name": "stdout",
     "output_type": "stream",
     "text": [
      "Alpha (TATA MOTORS): 0.002494182222248188\n",
      "Beta (TATA MOTORS): 1.0940495680506144\n",
      "Sharpe Ratio (NIFTY50): 1.96\n",
      "Max Drawdown (NIFTY50): 6.61%\n",
      "Sharpe Ratio (TATA_MOTORS): 3.56\n",
      "Max Drawdown (TATA_MOTORS): 9.51%\n"
     ]
    },
    {
     "name": "stderr",
     "output_type": "stream",
     "text": [
      "\n",
      "/var/folders/qh/vbb1qm9s49s09w22cg64fbnw0000gn/T/ipykernel_54516/1387876436.py:49: FutureWarning: Series.__getitem__ treating keys as positions is deprecated. In a future version, integer keys will always be treated as labels (consistent with DataFrame behavior). To access a value by position, use `ser.iloc[pos]`\n",
      "  peak = prices[0]\n"
     ]
    }
   ],
   "source": [
    "import yfinance as yf\n",
    "import pandas as pd\n",
    "import numpy as np\n",
    "\n",
    "# Define the ticker symbols\n",
    "tickers = {\n",
    "    'NIFTY50': '^NSEI',  # Yahoo Finance symbol for NIFTY 50 Index\n",
    "    'TATA_MOTORS': 'TATAMOTORS.NS'  # Yahoo Finance symbol for TATA MOTORS (NSE)\n",
    "}\n",
    "\n",
    "# Define the date range\n",
    "start_date = '2023-04-01'\n",
    "end_date = '2024-04-01'\n",
    "\n",
    "# Risk-free rate (annualized)\n",
    "risk_free_rate = 7.015 / 100\n",
    "\n",
    "# Download data for each ticker\n",
    "data = {}\n",
    "for name, ticker in tickers.items():\n",
    "    print(f\"Downloading data for {name} ({ticker})...\")\n",
    "    data[name] = yf.download(ticker, start=start_date, end=end_date)\n",
    "\n",
    "# Calculate daily returns\n",
    "returns = {}\n",
    "for name, df in data.items():\n",
    "    df['Daily Return'] = df['Adj Close'].pct_change()\n",
    "    returns[name] = df['Daily Return'].dropna()\n",
    "\n",
    "# Calculate alpha, beta, sharpe ratio, and max drawdown for TATA MOTORS with respect to NIFTY50\n",
    "nifty_returns = returns['NIFTY50']\n",
    "tata_returns = returns['TATA_MOTORS']\n",
    "\n",
    "# Covariance and variance for beta calculation\n",
    "cov_matrix = np.cov(tata_returns, nifty_returns)\n",
    "beta = cov_matrix[0, 1] / cov_matrix[1, 1]\n",
    "alpha = tata_returns.mean() - beta * nifty_returns.mean()\n",
    "\n",
    "# Sharpe ratio calculation (annualized)\n",
    "annual_factor = np.sqrt(252)\n",
    "sharpe_ratios = {}\n",
    "for name, ret in returns.items():\n",
    "    excess_return = ret - (risk_free_rate / 252)\n",
    "    sharpe_ratios[name] = (excess_return.mean() / excess_return.std()) * annual_factor\n",
    "\n",
    "# Max drawdown calculation (O(n))\n",
    "def calculate_max_drawdown(prices):\n",
    "    max_drawdown = 0\n",
    "    peak = prices[0]\n",
    "    for price in prices:\n",
    "        if price > peak:\n",
    "            peak = price\n",
    "        drawdown = (peak - price) / peak\n",
    "        max_drawdown = max(max_drawdown, drawdown)\n",
    "    return max_drawdown\n",
    "\n",
    "max_drawdowns = {}\n",
    "for name, df in data.items():\n",
    "    max_drawdowns[name] = calculate_max_drawdown(df['Adj Close'].dropna())\n",
    "\n",
    "# Print results\n",
    "print(\"Alpha (TATA MOTORS):\", alpha)\n",
    "print(\"Beta (TATA MOTORS):\", beta)\n",
    "for name in tickers:\n",
    "    print(f\"Sharpe Ratio ({name}): {sharpe_ratios[name]:.2f}\")\n",
    "    print(f\"Max Drawdown ({name}): {max_drawdowns[name]:.2%}\")\n",
    "\n",
    "\n"
   ]
  },
  {
   "cell_type": "code",
   "execution_count": null,
   "id": "6363800c-bac3-476e-8254-77920e30e89f",
   "metadata": {},
   "outputs": [],
   "source": []
  }
 ],
 "metadata": {
  "kernelspec": {
   "display_name": "Python 3 (ipykernel)",
   "language": "python",
   "name": "python3"
  },
  "language_info": {
   "codemirror_mode": {
    "name": "ipython",
    "version": 3
   },
   "file_extension": ".py",
   "mimetype": "text/x-python",
   "name": "python",
   "nbconvert_exporter": "python",
   "pygments_lexer": "ipython3",
   "version": "3.12.4"
  }
 },
 "nbformat": 4,
 "nbformat_minor": 5
}
